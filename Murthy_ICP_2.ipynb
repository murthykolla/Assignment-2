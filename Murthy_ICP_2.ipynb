{
 "cells": [
  {
   "cell_type": "markdown",
   "id": "b0de4bf5",
   "metadata": {
    "id": "b0de4bf5"
   },
   "source": [
    "ICP-2 Neural Networks & Deep Learning\n",
    "VVS Murthy Kolla\n",
    "700729142"
   ]
  },
  {
   "cell_type": "markdown",
   "id": "87b99b39",
   "metadata": {
    "id": "87b99b39"
   },
   "source": [
    "# Question 1"
   ]
  },
  {
   "cell_type": "markdown",
   "id": "438f822a",
   "metadata": {
    "id": "438f822a"
   },
   "source": [
    "Write a program that takes two strings from the user: first_name, last_name.\n",
    "Pass these variables to fullname function that should return the (full name).\n",
    "\n",
    "Write function named “string_alternative” that returns every other char in the full_name string."
   ]
  },
  {
   "cell_type": "code",
   "execution_count": 2,
   "id": "c8bf43ef",
   "metadata": {
    "colab": {
     "base_uri": "https://localhost:8080/",
     "height": 88
    },
    "id": "c8bf43ef",
    "outputId": "ca48244c-28d2-4671-d54f-4c13a820d707"
   },
   "outputs": [
    {
     "name": "stdout",
     "output_type": "stream",
     "text": [
      "Murthy\n",
      "Kolla\n",
      "Murthy Kolla\n"
     ]
    },
    {
     "data": {
      "application/vnd.google.colaboratory.intrinsic+json": {
       "type": "string"
      },
      "text/plain": [
       "'Mrh ol'"
      ]
     },
     "execution_count": 2,
     "metadata": {},
     "output_type": "execute_result"
    }
   ],
   "source": [
    "#taking first name and last name inputs from the user \n",
    "First_Name= input(\"Enter firstName: \");\n",
    "Last_Name= input (\"Enter lastName: \");\n",
    "#concatenating the String\n",
    "Full_Name=First_Name +\" \"+Last_Name\n",
    "#printing the fullname as a result\n",
    "print(\"Your full name is:\", Full_Name);\n",
    "#defing a method string_alternative\n",
    "def string_alternative(var1):\n",
    "    return var1[::2]\n",
    "#this methos will return the every other character in the string\n",
    "string_alternative(Full_Name)\n"
   ]
  },
  {
   "cell_type": "markdown",
   "id": "38f88871",
   "metadata": {
    "id": "38f88871"
   },
   "source": [
    "# Question 2"
   ]
  },
  {
   "cell_type": "markdown",
   "id": "dd81d962",
   "metadata": {
    "id": "dd81d962"
   },
   "source": [
    "Write a python program to find the wordcount in a file (input.txt) for each line and then print the output.\n",
    "Finally store the output in output.txt file."
   ]
  },
  {
   "cell_type": "code",
   "execution_count": 8,
   "id": "000bc035",
   "metadata": {
    "colab": {
     "base_uri": "https://localhost:8080/"
    },
    "id": "000bc035",
    "outputId": "6c9704e5-5a1f-45a9-a04e-46220dde02b8"
   },
   "outputs": [
    {
     "name": "stdout",
     "output_type": "stream",
     "text": [
      "python 1\n",
      "course 2\n",
      "deep 1\n",
      "learning 1\n"
     ]
    }
   ],
   "source": [
    "#using tyingextention \n",
    "from typing_extensions import Text\n",
    "import re\n",
    "word_count = {}\n",
    "#reading test from the input file\n",
    "Text = open('input.txt', 'r')\n",
    "string_text = Text.read().lower()\n",
    "pattern = re.findall(r'[a-z]{2,15}', string_text)\n",
    "for word in pattern:\n",
    "    count_words = word_count.get(word,0)\n",
    "    word_count[word] = count_words + 1 \n",
    "count_list = word_count.keys()\n",
    "#iterating the word count \n",
    "for words in count_list:\n",
    "    print(words, word_count[words])"
   ]
  },
  {
   "cell_type": "markdown",
   "id": "1f275793",
   "metadata": {
    "id": "1f275793"
   },
   "source": [
    "# Question 3"
   ]
  },
  {
   "cell_type": "markdown",
   "id": "9ea69f28",
   "metadata": {
    "id": "9ea69f28"
   },
   "source": [
    "\n",
    "Write a program, which reads heights (inches.) customers into a list and convert these heights to centimeters in a separate list using:\n",
    "1) Nested Interactive loop.\n",
    "2) List comprehensions"
   ]
  },
  {
   "cell_type": "code",
   "execution_count": 6,
   "id": "276eb44b",
   "metadata": {
    "colab": {
     "base_uri": "https://localhost:8080/"
    },
    "id": "276eb44b",
    "outputId": "487f4725-f609-4b63-d81d-90d79ca16daa"
   },
   "outputs": [
    {
     "name": "stdout",
     "output_type": "stream",
     "text": [
      "Enter the height in inches and seperate by commas:\n",
      " 150,155, 145, 148\n",
      "Nested interactive loop\n",
      "[58.5, 60.45, 56.55, 57.72]\n",
      "List comprehensions\n",
      "[58.5, 60.45, 56.55, 57.72]\n"
     ]
    }
   ],
   "source": [
    "#user input for height \n",
    "print(\"Enter the height in inches and seperate by commas:\")\n",
    "height_list = input()\n",
    "print(\"Nested interactive loop\")\n",
    "height_list1 = height_list[:]\n",
    "cm_list1 = []\n",
    "#spliting the input\n",
    "for height1 in height_list1.split(','):\n",
    "    height1 = float(\"{:.2f}\".format(float(height1) * 0.39))\n",
    "    cm_list1.append(height1)\n",
    "print(cm_list1)\n",
    "#comprehensions method\n",
    "print(\"List comprehensions\")\n",
    "heightinch_list2 = height_list[:]\n",
    "cm_list2 = [float(\"{:.2f}\".format(float(height2) * 0.39)) for height2 in heightinch_list2.split(',')]\n",
    "print(cm_list2)"
   ]
  },
  {
   "cell_type": "code",
   "execution_count": null,
   "id": "4d165f5f",
   "metadata": {
    "id": "4d165f5f"
   },
   "outputs": [],
   "source": [
    "  vedio link : https://drive.google.com/file/d/1mUQq6-k0eF4ybFcZyXLfZqv__HB0zAsN/view?usp=share_link\n",
    "            "
   ]
  }
 ],
 "metadata": {
  "colab": {
   "provenance": []
  },
  "kernelspec": {
   "display_name": "Python 3 (ipykernel)",
   "language": "python",
   "name": "python3"
  },
  "language_info": {
   "codemirror_mode": {
    "name": "ipython",
    "version": 3
   },
   "file_extension": ".py",
   "mimetype": "text/x-python",
   "name": "python",
   "nbconvert_exporter": "python",
   "pygments_lexer": "ipython3",
   "version": "3.10.2"
  }
 },
 "nbformat": 4,
 "nbformat_minor": 5
}
